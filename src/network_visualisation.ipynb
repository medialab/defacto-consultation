{
 "cells": [
  {
   "cell_type": "code",
   "execution_count": null,
   "id": "70200190-4003-41f9-b50f-d0d7b49cf4b3",
   "metadata": {
    "tags": []
   },
   "outputs": [],
   "source": [
    "%pip install ipysigma"
   ]
  },
  {
   "cell_type": "code",
   "execution_count": 1,
   "id": "0f78e30e-ccf0-4eb0-8469-9b57f58faaa9",
   "metadata": {
    "tags": []
   },
   "outputs": [],
   "source": [
    "FILE = 'agreement.gexf'"
   ]
  },
  {
   "cell_type": "code",
   "execution_count": 2,
   "id": "1b53fd23-4a53-47da-9277-adbae02c7d70",
   "metadata": {},
   "outputs": [],
   "source": [
    "topics_color_palette ={\n",
    "            \"L'opinion & le journalisme\":\"#6b7f38\",\n",
    "            \"Financement & indépendance des médias\":\"#7d64d1\",\n",
    "            \"Désinformation\":\"#5fb651\",\n",
    "            \"Formation du public aux contenus en ligne\":\"#c352b3\",\n",
    "            \"Formation des jeunes aux contenus en ligne\":\"#b3b540\",\n",
    "            \"Accès à l'information\":\"#7e7cc6\",\n",
    "            \"Chaînes d'information en continu\":\"#c58c44\",\n",
    "            \"Législation\":\"#509dd4\",\n",
    "            \"Éthique du journalisme\":\"#c75832\",\n",
    "            \"Désanoymisation en ligne\":\"#4baf91\",\n",
    "            \"Arnaques & influenceurs\":\"#d44c62\",\n",
    "            \"Échelles des médias\":\"#de85b0\",\n",
    "            \"Enseignement & l'EMI\":\"#a0486c\"\n",
    "        }\n",
    "adhesion_color_palette={\n",
    "            \"consensus\":\"#cf5fa4\",\n",
    "            \"controversy\":\"#874ac9\",\n",
    "            \"limbo\":\"#a6a642\",\n",
    "            \"rejection\":\"#be4340\"\n",
    "        }\n",
    "age_color_gradient=[\"#ffff00\",\"#0000ff\"]"
   ]
  },
  {
   "cell_type": "code",
   "execution_count": 3,
   "id": "04e89090-26f3-450f-9a7e-c100bf855728",
   "metadata": {},
   "outputs": [
    {
     "data": {
      "application/vnd.jupyter.widget-view+json": {
       "model_id": "2e1cd3813b8d4a168791348429977811",
       "version_major": 2,
       "version_minor": 0
      },
      "text/plain": [
       "VBox(children=(HBox(children=(Sigma(nx.Graph with 1,723 nodes and 30,638 edges), Sigma(nx.Graph with 1,723 nod…"
      ]
     },
     "metadata": {},
     "output_type": "display_data"
    }
   ],
   "source": [
    "import networkx as nx\n",
    "from ipysigma import SigmaGrid\n",
    "\n",
    "# Importing a gexf graph\n",
    "g = nx.read_gexf(FILE)\n",
    "\n",
    "# Views to display can be specified through the `views` kwarg, expecting\n",
    "# a list of dicts of keyword arguments to give to the underlying Sigma widgets:\n",
    "SigmaGrid(g, views=[\n",
    "    {\n",
    "        \"node_color\":\"custom_name\",\n",
    "        \"node_color_palette\":topics_color_palette,\n",
    "        \"default_edge_type\":\"curve\",\n",
    "        \"node_border_color_from\":\"node\",\n",
    "    },\n",
    "    {\n",
    "        \"node_color\":\"Zone d'adhésion\",\n",
    "        \"default_edge_type\":\"curve\",\n",
    "        \"node_border_color_from\":\"node\",\n",
    "        \"node_color_palette\":adhesion_color_palette\n",
    "    },\n",
    "    {\n",
    "        \"node_color\":\"age_integer\",\n",
    "        \"node_color_gradient\":age_color_gradient,\n",
    "        \"default_edge_type\":\"curve\",\n",
    "        \"node_border_color_from\":\"node\"\n",
    "    },\n",
    "    {\n",
    "        \"node_color\":\"index\",\n",
    "        \"node_color_gradient\":[\"#ffff00\",\"#0000ff\"],\n",
    "        \"default_edge_type\":\"curve\",\n",
    "        \"node_border_color_from\":\"node\"\n",
    "    },\n",
    "])"
   ]
  },
  {
   "cell_type": "code",
   "execution_count": null,
   "id": "c4354b62-af6a-4fbb-9ed8-efbb762e9b2b",
   "metadata": {},
   "outputs": [],
   "source": []
  }
 ],
 "metadata": {
  "kernelspec": {
   "display_name": "Python 3 (ipykernel)",
   "language": "python",
   "name": "python3"
  },
  "language_info": {
   "codemirror_mode": {
    "name": "ipython",
    "version": 3
   },
   "file_extension": ".py",
   "mimetype": "text/x-python",
   "name": "python",
   "nbconvert_exporter": "python",
   "pygments_lexer": "ipython3",
   "version": "3.10.4"
  }
 },
 "nbformat": 4,
 "nbformat_minor": 5
}
